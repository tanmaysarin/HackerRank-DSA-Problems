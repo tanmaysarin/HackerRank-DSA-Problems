{
 "cells": [
  {
   "cell_type": "markdown",
   "metadata": {},
   "source": [
    "<h1>HackerRank Problems</h1>"
   ]
  },
  {
   "cell_type": "raw",
   "metadata": {},
   "source": [
    "Dynamic Array Problem\n",
    "https://www.hackerrank.com/challenges/dynamic-array/problem"
   ]
  },
  {
   "cell_type": "code",
   "execution_count": 10,
   "metadata": {},
   "outputs": [
    {
     "name": "stdout",
     "output_type": "stream",
     "text": [
      "2 5\n",
      "1 0 5\n",
      "1 1 7\n",
      "1 0 3\n",
      "2 1 0\n",
      "7\n",
      "2 1 1\n",
      "3\n"
     ]
    }
   ],
   "source": [
    "import math\n",
    "import os\n",
    "import random\n",
    "import re\n",
    "import sys\n",
    "n, q = map(int, input().split())\n",
    "lastAnswer = 0\n",
    "\n",
    "Seqs = [[] for _ in range(n)]\n",
    "\n",
    "for _ in range(q):\n",
    "    t, x, y = map(int, input().split())\n",
    "    \n",
    "    if t == 1:\n",
    "        Seqs[(x ^ lastAnswer) % n].append(y)\n",
    "    elif t == 2:\n",
    "        val = Seqs[(x ^ lastAnswer) % n][y % len(Seqs)]\n",
    "        print(val)\n",
    "        lastAnswer = val"
   ]
  },
  {
   "cell_type": "raw",
   "metadata": {},
   "source": [
    "Left Rotation Problem\n",
    "https://www.hackerrank.com/challenges/array-left-rotation/problem"
   ]
  },
  {
   "cell_type": "code",
   "execution_count": 12,
   "metadata": {},
   "outputs": [
    {
     "name": "stdout",
     "output_type": "stream",
     "text": [
      "5 4\n",
      "1 2 3 4 5\n",
      "5 1 2 3 4 "
     ]
    }
   ],
   "source": [
    "n, d = map(int, input().split())\n",
    "\n",
    "arr = list(map(int, input().split()))\n",
    "\n",
    "for _ in range(d):\n",
    "    arr.append(arr.pop(0))\n",
    "    \n",
    "for item in arr:\n",
    "    print(item, end = \" \")"
   ]
  },
  {
   "cell_type": "raw",
   "metadata": {},
   "source": [
    "Sparce Arrays Problem\n",
    "https://www.hackerrank.com/challenges/sparse-arrays/problem?h_r=next-challenge&h_v=zen"
   ]
  },
  {
   "cell_type": "code",
   "execution_count": 15,
   "metadata": {},
   "outputs": [],
   "source": [
    "# Complete the matchingStrings function below.\n",
    "def matchingStrings(strings, queries):\n",
    "    arr = []\n",
    "\n",
    "    for query in queries:\n",
    "        i = 0\n",
    "        for string in strings:\n",
    "            if string == query:\n",
    "                i = i + 1\n",
    "        arr.append(i)\n",
    "    \n",
    "    return arr"
   ]
  },
  {
   "cell_type": "code",
   "execution_count": null,
   "metadata": {},
   "outputs": [],
   "source": []
  }
 ],
 "metadata": {
  "kernelspec": {
   "display_name": "Python 3",
   "language": "python",
   "name": "python3"
  },
  "language_info": {
   "codemirror_mode": {
    "name": "ipython",
    "version": 3
   },
   "file_extension": ".py",
   "mimetype": "text/x-python",
   "name": "python",
   "nbconvert_exporter": "python",
   "pygments_lexer": "ipython3",
   "version": "3.7.6"
  }
 },
 "nbformat": 4,
 "nbformat_minor": 4
}
